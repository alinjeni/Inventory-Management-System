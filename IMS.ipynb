{
 "cells": [
  {
   "cell_type": "markdown",
   "id": "c1f8256c",
   "metadata": {},
   "source": [
    "## Inventory management system\n"
   ]
  },
  {
   "cell_type": "code",
   "execution_count": 25,
   "id": "758d0977",
   "metadata": {},
   "outputs": [],
   "source": [
    "fd=open(\"record.json\",\"r\")\n",
    "txt=fd.read()\n",
    "fd.close()"
   ]
  },
  {
   "cell_type": "code",
   "execution_count": 26,
   "id": "755abac8",
   "metadata": {},
   "outputs": [
    {
     "data": {
      "text/plain": [
       "'{\"101\": {\"Product name\": \"dettolhandwash\", \"price\": 80, \"In stock items\": 30}, \"102\": {\"Product name\": \"Haldiram Bhujia\", \"Price\": 30, \"In stock items\": 100}, \"103\": {\"Product name\": \"Haldiram Channa\", \"Price\": 35, \"In stock items\": 90}, \"104\": {\"Product name\": \"Bicano Bhujia\", \"Price\": 25, \"In stock items\": 100}, \"105\": {\"Product name\": \"Bicano Channa\", \"Price\": 30, \"In stock items\": 80}, \"106\": {\"Product name\": \"Bourbon Biscuits\", \"Price\": 20, \"In stock items\": 80}, \"107\": {\"Product name\": \"Oreo Biscuits\", \"Price\": 30, \"In stock items\": 100}, \"108\": {\"Product name\": \"Good Day Biscuits\", \"Price\": 20, \"In stock items\": 65}, \"109\": {\"Product name\": \"Oatmeal Biscuits\", \"Price\": 50, \"In stock items\": 90}, \"110\": {\"Product name\": \"Raisins Packet\", \"Price\": 200, \"In stock items\": 500}, \"111\": {\"Product name\": \"Mixed Fruit jam\", \"Price\": 135, \"In stock items\": 90}, \"112\": {\"Product name\": \"Mango Jam\", \"Price\": 130, \"In stock items\": 100}, \"113\": {\"Product name\": \"Blueberry Jam\", \"Price\": 160, \"In stock items\": 50}, \"114\": {\"Product name\": \"Maggi Noodles\", \"Price\": 40, \"In stock items\": 500}, \"115\": {\"Product name\": \"Schezwan Chutney\", \"Price\": 15, \"In stock items\": 100}, \"116\": {\"Product name\": \"Chings Noodles\", \"Price\": 20, \"In stock items\": 70}, \"117\": {\"Product name\": \"Saffola Oats\", \"Price\": 120, \"In stock items\": 90}, \"118\": {\"Product name\": \"Saffola Oodles\", \"Price\": 50, \"In stock items\": 50}, \"119\": {\"Product name\": \"Kelloggs Oats\", \"Price\": 75, \"In stock items\": 90}, \"120\": {\"Product name\": \"Kelloggs Muesli\", \"Price\": 200, \"In stock items\": 63}, \"121\": {\"Product name\": \"Peanut Butter\", \"Price\": 160, \"In stock items\": 80}, \"122\": {\"Product name\": \"Dry Fruits\", \"Price\": 500, \"In stock items\": 119}, \"123\": {\"Product name\": \"Henz Ketchup\", \"Price\": 30, \"In stock items\": 98}, \"124\": {\"Product name\": \"Kissan Ketchup\", \"Price\": 15, \"In stock items\": 70}, \"125\": {\"Product name\": \"Maggi Ketchup\", \"Price\": 30, \"In stock items\": 90}, \"126\": {\"Product name\": \"Toothbrush\", \"Price\": 20, \"In stock items\": 100}, \"127\": {\"Product name\": \"Toothpaste\", \"Price\": 90, \"In stock items\": 90}, \"128\": {\"Product name\": \"Mortein refil\", \"Price\": 100, \"In stock items\": 100}, \"129\": {\"Product name\": \"Hit Spray \", \"Price\": 100, \"In stock items\": 45}, \"130\": {\"Product name\": \"Odomos paste\", \"Price\": 40, \"In stock items\": 15}, \"131\": {\"Product name\": \"shampoo\", \"price\": 150, \"In stock items\": 49}, \"132\": {\"Product name\": \"eyeliner\", \"price\": 50, \"In stock items\": 20}, \"133\": {\"Product name\": \"water bottle\", \"price\": 50, \"In stock items\": 72}}'"
      ]
     },
     "execution_count": 26,
     "metadata": {},
     "output_type": "execute_result"
    }
   ],
   "source": [
    "txt"
   ]
  },
  {
   "cell_type": "code",
   "execution_count": 27,
   "id": "3007bfc8",
   "metadata": {},
   "outputs": [],
   "source": [
    "import json\n",
    "record=json.loads(txt)"
   ]
  },
  {
   "cell_type": "code",
   "execution_count": 28,
   "id": "ca8a1182",
   "metadata": {},
   "outputs": [
    {
     "data": {
      "text/plain": [
       "{'101': {'Product name': 'dettolhandwash', 'price': 80, 'In stock items': 30},\n",
       " '102': {'Product name': 'Haldiram Bhujia',\n",
       "  'Price': 30,\n",
       "  'In stock items': 100},\n",
       " '103': {'Product name': 'Haldiram Channa', 'Price': 35, 'In stock items': 90},\n",
       " '104': {'Product name': 'Bicano Bhujia', 'Price': 25, 'In stock items': 100},\n",
       " '105': {'Product name': 'Bicano Channa', 'Price': 30, 'In stock items': 80},\n",
       " '106': {'Product name': 'Bourbon Biscuits',\n",
       "  'Price': 20,\n",
       "  'In stock items': 80},\n",
       " '107': {'Product name': 'Oreo Biscuits', 'Price': 30, 'In stock items': 100},\n",
       " '108': {'Product name': 'Good Day Biscuits',\n",
       "  'Price': 20,\n",
       "  'In stock items': 65},\n",
       " '109': {'Product name': 'Oatmeal Biscuits',\n",
       "  'Price': 50,\n",
       "  'In stock items': 90},\n",
       " '110': {'Product name': 'Raisins Packet',\n",
       "  'Price': 200,\n",
       "  'In stock items': 500},\n",
       " '111': {'Product name': 'Mixed Fruit jam',\n",
       "  'Price': 135,\n",
       "  'In stock items': 90},\n",
       " '112': {'Product name': 'Mango Jam', 'Price': 130, 'In stock items': 100},\n",
       " '113': {'Product name': 'Blueberry Jam', 'Price': 160, 'In stock items': 50},\n",
       " '114': {'Product name': 'Maggi Noodles', 'Price': 40, 'In stock items': 500},\n",
       " '115': {'Product name': 'Schezwan Chutney',\n",
       "  'Price': 15,\n",
       "  'In stock items': 100},\n",
       " '116': {'Product name': 'Chings Noodles', 'Price': 20, 'In stock items': 70},\n",
       " '117': {'Product name': 'Saffola Oats', 'Price': 120, 'In stock items': 90},\n",
       " '118': {'Product name': 'Saffola Oodles', 'Price': 50, 'In stock items': 50},\n",
       " '119': {'Product name': 'Kelloggs Oats', 'Price': 75, 'In stock items': 90},\n",
       " '120': {'Product name': 'Kelloggs Muesli',\n",
       "  'Price': 200,\n",
       "  'In stock items': 63},\n",
       " '121': {'Product name': 'Peanut Butter', 'Price': 160, 'In stock items': 80},\n",
       " '122': {'Product name': 'Dry Fruits', 'Price': 500, 'In stock items': 119},\n",
       " '123': {'Product name': 'Henz Ketchup', 'Price': 30, 'In stock items': 98},\n",
       " '124': {'Product name': 'Kissan Ketchup', 'Price': 15, 'In stock items': 70},\n",
       " '125': {'Product name': 'Maggi Ketchup', 'Price': 30, 'In stock items': 90},\n",
       " '126': {'Product name': 'Toothbrush', 'Price': 20, 'In stock items': 100},\n",
       " '127': {'Product name': 'Toothpaste', 'Price': 90, 'In stock items': 90},\n",
       " '128': {'Product name': 'Mortein refil', 'Price': 100, 'In stock items': 100},\n",
       " '129': {'Product name': 'Hit Spray ', 'Price': 100, 'In stock items': 45},\n",
       " '130': {'Product name': 'Odomos paste', 'Price': 40, 'In stock items': 15},\n",
       " '131': {'Product name': 'shampoo', 'price': 150, 'In stock items': 49},\n",
       " '132': {'Product name': 'eyeliner', 'price': 50, 'In stock items': 20},\n",
       " '133': {'Product name': 'water bottle', 'price': 50, 'In stock items': 72}}"
      ]
     },
     "execution_count": 28,
     "metadata": {},
     "output_type": "execute_result"
    }
   ],
   "source": [
    "record"
   ]
  },
  {
   "cell_type": "code",
   "execution_count": null,
   "id": "99a5e837",
   "metadata": {},
   "outputs": [],
   "source": []
  },
  {
   "cell_type": "markdown",
   "id": "4af73ee1",
   "metadata": {},
   "source": [
    "## Adding a product"
   ]
  },
  {
   "cell_type": "code",
   "execution_count": 32,
   "id": "fc173753",
   "metadata": {},
   "outputs": [
    {
     "name": "stdout",
     "output_type": "stream",
     "text": [
      "Enter product ID:112\n",
      "Enter product name:Mango Jam\n",
      "Enter the price:130\n",
      "Enter the quantity:10\n",
      "Product added\n"
     ]
    }
   ],
   "source": [
    "product_id = input(\"Enter product ID:\")\n",
    "name = input(\"Enter product name:\")\n",
    "pr=int(input(\"Enter the price:\"))\n",
    "qn=int(input(\"Enter the quantity:\"))\n",
    "for i in record.keys():\n",
    "    if(product_id ==i):\n",
    "        qn=qn+record[i][\"In stock items\"]\n",
    "record[product_id]={\"Product name\":name,\"price\":pr,\"In stock items\":qn}\n",
    "\n",
    "js=json.dumps(record)\n",
    "\n",
    "fd=open(\"record.json\",\"w\")\n",
    "fd.write(js)\n",
    "fd.close()\n",
    "\n",
    "print(\"Product added\")\n",
    "    \n"
   ]
  },
  {
   "cell_type": "code",
   "execution_count": null,
   "id": "8201f67e",
   "metadata": {},
   "outputs": [],
   "source": []
  },
  {
   "cell_type": "markdown",
   "id": "e2765ca2",
   "metadata": {},
   "source": [
    "## Purchase"
   ]
  },
  {
   "cell_type": "code",
   "execution_count": 33,
   "id": "2bd65b8f",
   "metadata": {},
   "outputs": [
    {
     "name": "stdout",
     "output_type": "stream",
     "text": [
      "Enter product id:105\n",
      "Enter the quantity:2\n",
      "Product name: Bicano Channa\n",
      "Price per unit: 30\n",
      "****************************\n",
      "billing amount: 60\n",
      "****************************\n"
     ]
    }
   ],
   "source": [
    "ui_prod= input(\"Enter product id:\")\n",
    "flag=0\n",
    "\n",
    "for i in record.keys():\n",
    "    if(ui_prod ==i ):\n",
    "        flag=1\n",
    "        ui_qn= int(input(\"Enter the quantity:\"))\n",
    "        if(ui_qn > record[i][\"In stock items\"]):\n",
    "            print(\"Shortage of product\")\n",
    "        else:\n",
    "            print(\"Product name:\",record[i][\"Product name\"])\n",
    "            print(\"Price per unit:\",record[i][\"Price\"])\n",
    "\n",
    "            print(\"****************************\")\n",
    "            amount=ui_qn*record[i][\"Price\"]\n",
    "            print(\"billing amount:\",amount)\n",
    "            print(\"****************************\")\n",
    "            record[i][\"In stock items\"] -=ui_qn\n",
    "    \n",
    "    \n",
    "\n",
    "if(flag==0):\n",
    "    print(\"Invalid product id\")\n",
    "else:\n",
    "    js=json.dumps(record)\n",
    "    fd=open(\"record.json\",\"w\")\n",
    "    fd.write(js)\n",
    "    fd.close()\n",
    "    \n",
    "    \n",
    "    ### sales record ###\n",
    "    fd=open(\"sales.json\",\"r\")\n",
    "    sale=fd.read()\n",
    "    fd.close()\n",
    "\n",
    "    sales=json.loads(sale)\n",
    "\n",
    "    sales[(len(sales)+1)]={\"prod\":ui_prod,\"quantity\":ui_qn,\"Amount\":amount}\n",
    "    sale=json.dumps(sales)\n",
    "    fd=open(\"sales.json\",\"w\")\n",
    "    r= fd.write(sale)\n",
    "    fd.close()\n",
    "            \n",
    "    \n",
    "    \n",
    " \n",
    "    \n",
    "\n",
    "    "
   ]
  },
  {
   "cell_type": "code",
   "execution_count": null,
   "id": "eca256de",
   "metadata": {},
   "outputs": [],
   "source": []
  },
  {
   "cell_type": "markdown",
   "id": "4f1237b0",
   "metadata": {},
   "source": [
    "### sales record"
   ]
  },
  {
   "cell_type": "code",
   "execution_count": 34,
   "id": "5f1b4805",
   "metadata": {},
   "outputs": [
    {
     "data": {
      "text/plain": [
       "{'1': {'prod': '131', 'quantity': 2, 'Amount': 300},\n",
       " '2': {'prod': '101', 'quantity': 2, 'Amount': 160},\n",
       " '3': {'prod': '122', 'quantity': 3, 'Amount': 360},\n",
       " '4': {'prod': '131', 'quantity': 1, 'Amount': 150},\n",
       " '5': {'prod': '123', 'quantity': 2, 'Amount': 60},\n",
       " '6': {'prod': '133', 'quantity': 1, 'Amount': 50},\n",
       " '7': {'prod': '122', 'quantity': 1, 'Amount': 500},\n",
       " 8: {'prod': '105', 'quantity': 2, 'Amount': 60}}"
      ]
     },
     "execution_count": 34,
     "metadata": {},
     "output_type": "execute_result"
    }
   ],
   "source": [
    "sales"
   ]
  },
  {
   "cell_type": "markdown",
   "id": "88672b93",
   "metadata": {},
   "source": [
    "### If we enter a invalid product id"
   ]
  },
  {
   "cell_type": "code",
   "execution_count": 35,
   "id": "40daa343",
   "metadata": {},
   "outputs": [
    {
     "name": "stdout",
     "output_type": "stream",
     "text": [
      "Enter product id:666\n",
      "Invalid product id\n"
     ]
    }
   ],
   "source": [
    "ui_prod= input(\"Enter product id:\")\n",
    "flag=0\n",
    "\n",
    "for i in record.keys():\n",
    "    if(ui_prod ==i ):\n",
    "        flag=1\n",
    "        ui_qn= int(input(\"Enter the quantity:\"))\n",
    "        if(ui_qn > record[i][\"In stock items\"]):\n",
    "            print(\"Shortage of product\")\n",
    "        else:\n",
    "            print(\"Product name:\",record[i][\"Product name\"])\n",
    "            print(\"Price per unit:\",record[i][\"Price\"])\n",
    "\n",
    "            print(\"****************************\")\n",
    "            amount=ui_qn*record[i][\"Price\"]\n",
    "            print(\"billing amount:\",amount)\n",
    "            print(\"****************************\")\n",
    "            record[i][\"In stock items\"] -=ui_qn\n",
    "    \n",
    "    \n",
    "\n",
    "if(flag==0):\n",
    "    print(\"Invalid product id\")\n",
    "else:\n",
    "    js=json.dumps(record)\n",
    "    fd=open(\"record.json\",\"w\")\n",
    "    fd.write(js)\n",
    "    fd.close()\n",
    "    \n",
    "    \n",
    "    ### sales record ###\n",
    "    fd=open(\"sales.json\",\"r\")\n",
    "    sale=fd.read()\n",
    "    fd.close()\n",
    "\n",
    "    sales=json.loads(sale)\n",
    "\n",
    "    sales[(len(sales)+1)]={\"prod\":ui_prod,\"quantity\":ui_qn,\"Amount\":amount}\n",
    "    sale=json.dumps(sales)\n",
    "    fd=open(\"sales.json\",\"w\")\n",
    "    r= fd.write(sale)\n",
    "    fd.close()\n",
    "            \n",
    "    \n",
    "    \n",
    " \n",
    "    \n",
    "\n",
    "    "
   ]
  },
  {
   "cell_type": "code",
   "execution_count": null,
   "id": "f5feba3b",
   "metadata": {},
   "outputs": [],
   "source": []
  },
  {
   "cell_type": "code",
   "execution_count": null,
   "id": "ced653f0",
   "metadata": {},
   "outputs": [],
   "source": []
  },
  {
   "cell_type": "code",
   "execution_count": null,
   "id": "ebdff2cc",
   "metadata": {},
   "outputs": [],
   "source": []
  },
  {
   "cell_type": "code",
   "execution_count": null,
   "id": "49876d70",
   "metadata": {},
   "outputs": [],
   "source": []
  }
 ],
 "metadata": {
  "kernelspec": {
   "display_name": "Python 3",
   "language": "python",
   "name": "python3"
  },
  "language_info": {
   "codemirror_mode": {
    "name": "ipython",
    "version": 3
   },
   "file_extension": ".py",
   "mimetype": "text/x-python",
   "name": "python",
   "nbconvert_exporter": "python",
   "pygments_lexer": "ipython3",
   "version": "3.8.8"
  }
 },
 "nbformat": 4,
 "nbformat_minor": 5
}
